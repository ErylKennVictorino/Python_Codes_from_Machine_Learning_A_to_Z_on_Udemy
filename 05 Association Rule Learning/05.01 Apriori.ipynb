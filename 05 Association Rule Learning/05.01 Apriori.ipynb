{
 "cells": [
  {
   "cell_type": "code",
   "execution_count": null,
   "metadata": {},
   "outputs": [],
   "source": [
    "AUTHOR:     ERYL KENN VICTORINO\n",
    "PURPOSE:    APRIORI TUTORIAL\n",
    "            from 'Machine Learning A-Z™: Hands-On Python & R In Data Science' on Udemy\n",
    "            by Kirill Eremenko, Hadelin de Ponteves, and the SuperDataScience Team\n",
    "MOD DATE:   3/26/2019"
   ]
  },
  {
   "cell_type": "code",
   "execution_count": null,
   "metadata": {},
   "outputs": [],
   "source": [
    "#   IMPORT LIBRARIES\n",
    "import pandas as pd\n",
    "from apyori import apriori"
   ]
  },
  {
   "cell_type": "code",
   "execution_count": null,
   "metadata": {},
   "outputs": [],
   "source": [
    "#   IMPORT DATASET AND CREATE SPARSE MATRIX\n",
    "dataset = pd.read_csv('Market_Basket_Optimisation.csv', header = None)\n",
    "transactions = []\n",
    "for i in range(0, 7501):\n",
    "    transactions.append([str(dataset.values[i,j]) for j in range(0, 20)])"
   ]
  },
  {
   "cell_type": "code",
   "execution_count": null,
   "metadata": {},
   "outputs": [],
   "source": [
    "#   APRIORI TRAINING ON DATASET\n",
    "# to get the support, we choose items bought 4 times a day\n",
    "# support = (4 buys)*(7 days in a week)/(7500 total sales)\n",
    "rules = apriori(transactions, min_support = 0.004, min_confidence = 0.2, min_lift = 3, min_length = 2)"
   ]
  },
  {
   "cell_type": "code",
   "execution_count": null,
   "metadata": {},
   "outputs": [],
   "source": [
    "#   VISUALIZE RULES\n",
    "results = list(rules)\n",
    "results_list = []\n",
    "for i in range(0, len(results)):\n",
    "    results_list.append('RULE:\\t' + str(results[i][0]) + '\\nSUPPORT:\\t' + str(results[i][1]))"
   ]
  }
 ],
 "metadata": {
  "kernelspec": {
   "display_name": "Python 3",
   "language": "python",
   "name": "python3"
  },
  "language_info": {
   "codemirror_mode": {
    "name": "ipython",
    "version": 3
   },
   "file_extension": ".py",
   "mimetype": "text/x-python",
   "name": "python",
   "nbconvert_exporter": "python",
   "pygments_lexer": "ipython3",
   "version": "3.6.5"
  }
 },
 "nbformat": 4,
 "nbformat_minor": 2
}
