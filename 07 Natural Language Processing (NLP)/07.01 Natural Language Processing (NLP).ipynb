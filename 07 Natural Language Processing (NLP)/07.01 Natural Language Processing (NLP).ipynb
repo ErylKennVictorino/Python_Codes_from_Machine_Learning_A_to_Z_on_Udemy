{
 "cells": [
  {
   "cell_type": "code",
   "execution_count": 1,
   "metadata": {},
   "outputs": [],
   "source": [
    "#     AUTHOR:     ERYL KENN VICTORINO\n",
    "#     PURPOSE:    NATURAL LANGUAGE PROCESSING (NLP) TUTORIAL\n",
    "#                 from 'Machine Learning A-Z™: Hands-On Python & R In Data Science' on Udemy\n",
    "#                 by Kirill Eremenko, Hadelin de Ponteves, and the SuperDataScience Team\n",
    "#     MOD DATE:   4/4/2019"
   ]
  },
  {
   "cell_type": "code",
   "execution_count": 2,
   "metadata": {},
   "outputs": [],
   "source": [
    "#   IMPORT LIBRARIES\n",
    "import matplotlib.pyplot as plt\n",
    "import pandas as pd\n",
    "import re\n",
    "import nltk\n",
    "#nltk.download('stopwords')\n",
    "from nltk.corpus import stopwords\n",
    "from nltk.stem.porter import PorterStemmer\n",
    "from sklearn.feature_extraction.text import CountVectorizer\n",
    "from sklearn.model_selection import train_test_split\n",
    "from sklearn.linear_model import LogisticRegression\n",
    "from sklearn.neighbors import KNeighborsClassifier\n",
    "from sklearn.svm import SVC\n",
    "from sklearn.naive_bayes import GaussianNB\n",
    "from sklearn.tree import DecisionTreeClassifier\n",
    "from sklearn.ensemble import RandomForestClassifier\n",
    "from sklearn.metrics import confusion_matrix\n",
    "from sklearn.metrics import roc_curve, auc"
   ]
  },
  {
   "cell_type": "code",
   "execution_count": 3,
   "metadata": {},
   "outputs": [],
   "source": [
    "#   IMPORT DATASET\n",
    "dataset = pd.read_csv('Restaurant_Reviews.tsv', delimiter = \"\\t\", quoting = 3)"
   ]
  },
  {
   "cell_type": "code",
   "execution_count": 4,
   "metadata": {},
   "outputs": [],
   "source": [
    "#   CLEAN TEXT\n",
    "corpus = []\n",
    "for i in range(0, len(dataset)):\n",
    "    review = re.sub('[^a-zA-Z]', ' ', dataset['Review'][i])\n",
    "    review = review.lower()\n",
    "    review = review.split()\n",
    "    ps = PorterStemmer()\n",
    "    review = [ps.stem(word) for word in review if not word in set(stopwords.words('english'))]\n",
    "    review = ' '.join(review)\n",
    "    corpus.append(review)"
   ]
  },
  {
   "cell_type": "code",
   "execution_count": 5,
   "metadata": {},
   "outputs": [],
   "source": [
    "#   BAG OF WORDS MODEL\n",
    "cv = CountVectorizer(max_features = 1500)\n",
    "X = cv.fit_transform(corpus).toarray()\n",
    "y = dataset.iloc[:, 1].values"
   ]
  },
  {
   "cell_type": "code",
   "execution_count": 6,
   "metadata": {},
   "outputs": [],
   "source": [
    "#   TRAINING/TEST SPLIT\n",
    "X_train, X_test, y_train, y_test = train_test_split(X, y, test_size = 0.20, random_state = 0)"
   ]
  },
  {
   "cell_type": "code",
   "execution_count": 7,
   "metadata": {},
   "outputs": [],
   "source": [
    "#   FEATURE SCALING\n",
    "# unnecessary since the values are mostly zeroes and ones"
   ]
  },
  {
   "cell_type": "code",
   "execution_count": 8,
   "metadata": {},
   "outputs": [],
   "source": [
    "#   PERFORMANCE CALCULATORS\n",
    "def accuracy_calculator(cm):\n",
    "    TP, TN, FP, FN = cm[1, 1], cm[0, 0], cm[0, 1], cm[1, 0]\n",
    "    accuracy = (TP + TN) / (TP + TN + FP + FN)\n",
    "    return accuracy\n",
    "    \n",
    "def precision_calculator(cm):\n",
    "    TP, FP = cm[1, 1], cm[0, 1],\n",
    "    precision = TP / (TP + FP)\n",
    "    return precision\n",
    "    \n",
    "def recall_calculator(cm):\n",
    "    TP, FN = cm[1, 1], cm[1, 0]\n",
    "    recall = TP / (TP + FN)\n",
    "    return recall\n",
    "    \n",
    "def f1_calculator(cm):\n",
    "    TP, FP, FN = cm[1, 1], cm[0, 1], cm[1, 0]\n",
    "    precision = TP / (TP + FP)\n",
    "    recall = TP / (TP + FN)\n",
    "    f1 = 2 * precision * recall / (precision + recall)\n",
    "    return f1"
   ]
  },
  {
   "cell_type": "code",
   "execution_count": 9,
   "metadata": {},
   "outputs": [],
   "source": [
    "#   CREATE PERFORMNCE TABLE\n",
    "criterion = ['accuracy', 'precision', 'recall', 'f1']\n",
    "classifiers = ['Logistic Regression', 'K-Nearest Neighbors', 'Support Vector Machine',\n",
    "               'Naive Bayes', 'Decision Tree', 'Random Forest']\n",
    "performance = pd.DataFrame(index = classifiers, columns = criterion)"
   ]
  },
  {
   "cell_type": "code",
   "execution_count": 10,
   "metadata": {},
   "outputs": [],
   "source": [
    "#   LOGISTIC REGRESSION FIT, ROC, AND AUC\n",
    "lg_classifier = LogisticRegression(random_state = 0)\n",
    "lg_classifier.fit(X_train, y_train)\n",
    "lg_y_pred = lg_classifier.predict(X_test)\n",
    "lg_cm = confusion_matrix(y_test, lg_y_pred)\n",
    "performance.at['Logistic Regression', 'accuracy'] = accuracy_calculator(lg_cm)\n",
    "performance.at['Logistic Regression', 'precision'] = precision_calculator(lg_cm)\n",
    "performance.at['Logistic Regression', 'recall'] = recall_calculator(lg_cm)\n",
    "performance.at['Logistic Regression', 'f1'] = f1_calculator(lg_cm)\n",
    "lg_fpr, lg_tpr, thresholds = roc_curve(lg_y_pred, y_test)\n",
    "lg_roc_auc = auc(lg_fpr, lg_tpr)"
   ]
  },
  {
   "cell_type": "code",
   "execution_count": 11,
   "metadata": {},
   "outputs": [],
   "source": [
    "#   KNN FIT, ROC, AND AUC\n",
    "knn_classifier = KNeighborsClassifier(n_neighbors = 5, metric = 'minkowski', p = 2)\n",
    "knn_classifier.fit(X_train, y_train)\n",
    "knn_y_pred = knn_classifier.predict(X_test)\n",
    "knn_cm = confusion_matrix(y_test, knn_y_pred)\n",
    "performance.at['K-Nearest Neighbors', 'accuracy'] = accuracy_calculator(knn_cm)\n",
    "performance.at['K-Nearest Neighbors', 'precision'] = precision_calculator(knn_cm)\n",
    "performance.at['K-Nearest Neighbors', 'recall'] = recall_calculator(knn_cm)\n",
    "performance.at['K-Nearest Neighbors', 'f1'] = f1_calculator(knn_cm)\n",
    "knn_fpr, knn_tpr, thresholds = roc_curve(knn_y_pred, y_test)\n",
    "knn_roc_auc = auc(knn_fpr, knn_tpr)"
   ]
  },
  {
   "cell_type": "code",
   "execution_count": 12,
   "metadata": {},
   "outputs": [],
   "source": [
    "#   SVM FIT, ROC, AND AUC\n",
    "svm_classifier = SVC(kernel = 'linear', random_state = 0)\n",
    "svm_classifier.fit(X_train, y_train)\n",
    "svm_y_pred = svm_classifier.predict(X_test)\n",
    "svm_cm = confusion_matrix(y_test, svm_y_pred)\n",
    "performance.at['Support Vector Machine', 'accuracy'] = accuracy_calculator(svm_cm)\n",
    "performance.at['Support Vector Machine', 'precision'] = precision_calculator(svm_cm)\n",
    "performance.at['Support Vector Machine', 'recall'] = recall_calculator(svm_cm)\n",
    "performance.at['Support Vector Machine', 'f1'] = f1_calculator(svm_cm)\n",
    "svm_fpr, svm_tpr, thresholds = roc_curve(svm_y_pred, y_test)\n",
    "svm_roc_auc = auc(svm_fpr, svm_tpr)"
   ]
  },
  {
   "cell_type": "code",
   "execution_count": 13,
   "metadata": {},
   "outputs": [],
   "source": [
    "#   NAIVE BAYES FIT, ROC, AND AUC\n",
    "nb_classifier = GaussianNB()\n",
    "nb_classifier.fit(X_train, y_train)\n",
    "nb_y_pred = nb_classifier.predict(X_test)\n",
    "nb_cm = confusion_matrix(y_test, nb_y_pred)\n",
    "performance.at['Naive Bayes', 'accuracy'] = accuracy_calculator(nb_cm)\n",
    "performance.at['Naive Bayes', 'precision'] = precision_calculator(nb_cm)\n",
    "performance.at['Naive Bayes', 'recall'] = recall_calculator(nb_cm)\n",
    "performance.at['Naive Bayes', 'f1'] = f1_calculator(nb_cm)\n",
    "nb_fpr, nb_tpr, thresholds = roc_curve(nb_y_pred, y_test)\n",
    "nb_roc_auc = auc(nb_fpr, nb_tpr)"
   ]
  },
  {
   "cell_type": "code",
   "execution_count": 14,
   "metadata": {},
   "outputs": [],
   "source": [
    "#   DECISION TREE FIT, ROC, AND AUC\n",
    "dt_classifier = DecisionTreeClassifier(criterion = 'entropy', random_state = 0)\n",
    "dt_classifier.fit(X_train, y_train)\n",
    "dt_y_pred = dt_classifier.predict(X_test)\n",
    "dt_cm = confusion_matrix(y_test, dt_y_pred)\n",
    "performance.at['Decision Tree', 'accuracy'] = accuracy_calculator(dt_cm)\n",
    "performance.at['Decision Tree', 'precision'] = precision_calculator(dt_cm)\n",
    "performance.at['Decision Tree', 'recall'] = recall_calculator(dt_cm)\n",
    "performance.at['Decision Tree', 'f1'] = f1_calculator(dt_cm)\n",
    "dt_fpr, dt_tpr, thresholds = roc_curve(dt_y_pred, y_test)\n",
    "dt_roc_auc = auc(dt_fpr, dt_tpr)"
   ]
  },
  {
   "cell_type": "code",
   "execution_count": 15,
   "metadata": {},
   "outputs": [],
   "source": [
    "#   RANDOM FOREST FIT, ROC, AND AUC\n",
    "rf_classifier = RandomForestClassifier(n_estimators = 10, criterion = 'entropy', random_state = 0)\n",
    "rf_classifier.fit(X_train, y_train)\n",
    "rf_y_pred = rf_classifier.predict(X_test)\n",
    "rf_cm = confusion_matrix(y_test, rf_y_pred)\n",
    "performance.at['Random Forest', 'accuracy'] = accuracy_calculator(rf_cm)\n",
    "performance.at['Random Forest', 'precision'] = precision_calculator(rf_cm)\n",
    "performance.at['Random Forest', 'recall'] = recall_calculator(rf_cm)\n",
    "performance.at['Random Forest', 'f1'] = f1_calculator(rf_cm)\n",
    "rf_fpr, rf_tpr, thresholds = roc_curve(rf_y_pred, y_test)\n",
    "rf_roc_auc = auc(rf_fpr, rf_tpr)"
   ]
  },
  {
   "cell_type": "code",
   "execution_count": 16,
   "metadata": {},
   "outputs": [
    {
     "data": {
      "text/html": [
       "<div>\n",
       "<style scoped>\n",
       "    .dataframe tbody tr th:only-of-type {\n",
       "        vertical-align: middle;\n",
       "    }\n",
       "\n",
       "    .dataframe tbody tr th {\n",
       "        vertical-align: top;\n",
       "    }\n",
       "\n",
       "    .dataframe thead th {\n",
       "        text-align: right;\n",
       "    }\n",
       "</style>\n",
       "<table border=\"1\" class=\"dataframe\">\n",
       "  <thead>\n",
       "    <tr style=\"text-align: right;\">\n",
       "      <th></th>\n",
       "      <th>accuracy</th>\n",
       "      <th>precision</th>\n",
       "      <th>recall</th>\n",
       "      <th>f1</th>\n",
       "    </tr>\n",
       "  </thead>\n",
       "  <tbody>\n",
       "    <tr>\n",
       "      <th>Logistic Regression</th>\n",
       "      <td>0.71</td>\n",
       "      <td>0.758621</td>\n",
       "      <td>0.640777</td>\n",
       "      <td>0.694737</td>\n",
       "    </tr>\n",
       "    <tr>\n",
       "      <th>K-Nearest Neighbors</th>\n",
       "      <td>0.61</td>\n",
       "      <td>0.676056</td>\n",
       "      <td>0.466019</td>\n",
       "      <td>0.551724</td>\n",
       "    </tr>\n",
       "    <tr>\n",
       "      <th>Support Vector Machine</th>\n",
       "      <td>0.72</td>\n",
       "      <td>0.752688</td>\n",
       "      <td>0.679612</td>\n",
       "      <td>0.714286</td>\n",
       "    </tr>\n",
       "    <tr>\n",
       "      <th>Naive Bayes</th>\n",
       "      <td>0.73</td>\n",
       "      <td>0.684211</td>\n",
       "      <td>0.883495</td>\n",
       "      <td>0.771186</td>\n",
       "    </tr>\n",
       "    <tr>\n",
       "      <th>Decision Tree</th>\n",
       "      <td>0.71</td>\n",
       "      <td>0.747253</td>\n",
       "      <td>0.660194</td>\n",
       "      <td>0.701031</td>\n",
       "    </tr>\n",
       "    <tr>\n",
       "      <th>Random Forest</th>\n",
       "      <td>0.72</td>\n",
       "      <td>0.850746</td>\n",
       "      <td>0.553398</td>\n",
       "      <td>0.670588</td>\n",
       "    </tr>\n",
       "  </tbody>\n",
       "</table>\n",
       "</div>"
      ],
      "text/plain": [
       "                       accuracy precision    recall        f1\n",
       "Logistic Regression        0.71  0.758621  0.640777  0.694737\n",
       "K-Nearest Neighbors        0.61  0.676056  0.466019  0.551724\n",
       "Support Vector Machine     0.72  0.752688  0.679612  0.714286\n",
       "Naive Bayes                0.73  0.684211  0.883495  0.771186\n",
       "Decision Tree              0.71  0.747253  0.660194  0.701031\n",
       "Random Forest              0.72  0.850746  0.553398  0.670588"
      ]
     },
     "execution_count": 16,
     "metadata": {},
     "output_type": "execute_result"
    }
   ],
   "source": [
    "#   PERFORMANCE TABLE\n",
    "performance"
   ]
  },
  {
   "cell_type": "code",
   "execution_count": 17,
   "metadata": {},
   "outputs": [
    {
     "data": {
      "image/png": "[encoded data removed]",
      "text/plain": [
       "<Figure size 432x288 with 1 Axes>"
      ]
     },
     "metadata": {
      "needs_background": "light"
     },
     "output_type": "display_data"
    }
   ],
   "source": [
    "#   ROC AND AUC COMPARISONS FOR ALL CLASSIFIERS\n",
    "plt.plot(lg_fpr, lg_tpr, color = 'darkorange', lw = 1, label = 'Logistic Regression ROC (AUC = %0.3f)' % lg_roc_auc)\n",
    "plt.plot(knn_fpr, knn_tpr, color = 'red', lw = 1, label = 'KNN ROC (AUC = %0.3f)' % knn_roc_auc)\n",
    "plt.plot(svm_fpr, svm_tpr, color = 'pink', lw = 1, label = 'SVM ROC (AUC = %0.3f)' % svm_roc_auc)\n",
    "plt.plot(nb_fpr, nb_tpr, color = 'violet', lw = 1, label = 'Naive Bayes ROC (AUC = %0.3f)' % nb_roc_auc)\n",
    "plt.plot(dt_fpr, dt_tpr, color = 'lightgreen', lw = 1, label = 'Decision Tree ROC (AUC = %0.3f)' % dt_roc_auc)\n",
    "plt.plot(rf_fpr, rf_tpr, color = 'darkgreen', lw = 1, label = 'Random Forest ROC (AUC = %0.3f)' % rf_roc_auc)\n",
    "plt.plot([0, 1], [0, 1], color = 'navy', lw = 1, linestyle = '--')\n",
    "plt.xlim([0.0, 1.0])\n",
    "plt.ylim([0.0, 1.05])\n",
    "plt.xlabel('False Positive Rate')\n",
    "plt.ylabel('True Positive Rate')\n",
    "plt.title('Receiver Operating Characteristic (ROC)')\n",
    "plt.legend(loc=\"lower right\")\n",
    "plt.show()"
   ]
  },
  {
   "cell_type": "code",
   "execution_count": null,
   "metadata": {},
   "outputs": [],
   "source": []
  }
 ],
 "metadata": {
  "kernelspec": {
   "display_name": "Python 3",
   "language": "python",
   "name": "python3"
  },
  "language_info": {
   "codemirror_mode": {
    "name": "ipython",
    "version": 3
   },
   "file_extension": ".py",
   "mimetype": "text/x-python",
   "name": "python",
   "nbconvert_exporter": "python",
   "pygments_lexer": "ipython3",
   "version": "3.6.5"
  }
 },
 "nbformat": 4,
 "nbformat_minor": 2
}
