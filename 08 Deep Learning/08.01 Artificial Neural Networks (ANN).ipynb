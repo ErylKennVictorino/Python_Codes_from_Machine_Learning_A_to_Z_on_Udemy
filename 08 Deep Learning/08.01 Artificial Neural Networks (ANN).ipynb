{
 "cells": [
  {
   "cell_type": "markdown",
   "metadata": {},
   "source": [
    "**AUTHOR**:     ERYL KENN VICTORINO  \n",
    "**PURPOSE**:    ARTIFICIAL NEURAL NETWORKS (ANN) TUTORIAL  \n",
    "*from 'Machine Learning A-Z™: Hands-On Python & R In Data Science' on Udemy by Kirill Eremenko, Hadelin de Ponteves, and the SuperDataScience Team*  \n",
    "**MOD DATE**:   4/20/2019"
   ]
  },
  {
   "cell_type": "markdown",
   "metadata": {},
   "source": [
    "# PART 1: DATA PREPROCESSING"
   ]
  },
  {
   "cell_type": "markdown",
   "metadata": {},
   "source": [
    "## IMPORT LIBRARIES"
   ]
  },
  {
   "cell_type": "code",
   "execution_count": 1,
   "metadata": {},
   "outputs": [],
   "source": [
    "import numpy as np\n",
    "import matplotlib.pyplot as plt\n",
    "import pandas as pd\n",
    "from sklearn.preprocessing import OneHotEncoder, StandardScaler\n",
    "from sklearn.model_selection import train_test_split\n",
    "from tensorflow.keras.models import Sequential\n",
    "from tensorflow.keras.layers import Dense\n",
    "from sklearn.metrics import confusion_matrix, roc_curve, auc\n",
    "from sklearn.compose import ColumnTransformer"
   ]
  },
  {
   "cell_type": "markdown",
   "metadata": {},
   "source": [
    "## IMPORT DATASET"
   ]
  },
  {
   "cell_type": "code",
   "execution_count": 2,
   "metadata": {},
   "outputs": [],
   "source": [
    "dataset = pd.read_csv(\"Churn_Modelling.csv\")\n",
    "X = dataset.iloc[:, 3:13].values\n",
    "y = dataset.iloc[:, 13].values"
   ]
  },
  {
   "cell_type": "markdown",
   "metadata": {},
   "source": [
    "## ENCODE CATEGORICAL VARIABLES"
   ]
  },
  {
   "cell_type": "code",
   "execution_count": 3,
   "metadata": {},
   "outputs": [],
   "source": [
    "ct = ColumnTransformer([('one_hot_encoder', OneHotEncoder(categories='auto'), [1, 2])],\n",
    "                        remainder='passthrough')\n",
    "X = np.array(ct.fit_transform(X), dtype=np.float)"
   ]
  },
  {
   "cell_type": "markdown",
   "metadata": {},
   "source": [
    ">*prevent dummy varible trap*"
   ]
  },
  {
   "cell_type": "code",
   "execution_count": 4,
   "metadata": {},
   "outputs": [],
   "source": [
    "X1 = X[:, 1:3]\n",
    "X2 = X[:, 4:13]\n",
    "X = np.concatenate((X1, X2), axis=1)"
   ]
  },
  {
   "cell_type": "markdown",
   "metadata": {},
   "source": [
    "## TRAINING/TEST SPLIT"
   ]
  },
  {
   "cell_type": "code",
   "execution_count": 5,
   "metadata": {},
   "outputs": [],
   "source": [
    "X_train, X_test, y_train, y_test = train_test_split(X, y, test_size = 0.2, random_state = 0)"
   ]
  },
  {
   "cell_type": "markdown",
   "metadata": {},
   "source": [
    "## FEATURE SCALING"
   ]
  },
  {
   "cell_type": "code",
   "execution_count": 6,
   "metadata": {},
   "outputs": [],
   "source": [
    "sc = StandardScaler()\n",
    "X_train = sc.fit_transform(X_train)\n",
    "X_test = sc.transform(X_test)"
   ]
  },
  {
   "cell_type": "markdown",
   "metadata": {},
   "source": [
    "# PART 2: CREATE ANN"
   ]
  },
  {
   "cell_type": "markdown",
   "metadata": {},
   "source": [
    "## INITIALIZE ANN"
   ]
  },
  {
   "cell_type": "code",
   "execution_count": 7,
   "metadata": {},
   "outputs": [],
   "source": [
    "classifier = Sequential()"
   ]
  },
  {
   "cell_type": "markdown",
   "metadata": {},
   "source": [
    "## ADD INPUT LAYER AND FIRST HIDDEN LAYER"
   ]
  },
  {
   "cell_type": "markdown",
   "metadata": {},
   "source": [
    ">*to get \"units\", take the average of the number of nodes in the input layer (11) and output layer(1) = (11+1)/2 = 6  \n",
    "initialize the weights to a uniform distribution  \n",
    "use a rectifier (\"relu\") activation function for the hidden layers*"
   ]
  },
  {
   "cell_type": "code",
   "execution_count": 8,
   "metadata": {},
   "outputs": [],
   "source": [
    "classifier.add(Dense(activation = 'relu', input_dim = 11, units = 6, kernel_initializer = 'uniform'))"
   ]
  },
  {
   "cell_type": "markdown",
   "metadata": {},
   "source": [
    "## ADD SECOND HIDDEN LAYER"
   ]
  },
  {
   "cell_type": "code",
   "execution_count": 9,
   "metadata": {},
   "outputs": [],
   "source": [
    "classifier.add(Dense(activation = 'relu', units = 6, kernel_initializer = 'uniform'))"
   ]
  },
  {
   "cell_type": "markdown",
   "metadata": {},
   "source": [
    "## ADD OUTPUT LAYER"
   ]
  },
  {
   "cell_type": "markdown",
   "metadata": {},
   "source": [
    ">*use a \"sigmoid\" activation function for the output layer*"
   ]
  },
  {
   "cell_type": "code",
   "execution_count": 10,
   "metadata": {},
   "outputs": [],
   "source": [
    " classifier.add(Dense(activation = 'sigmoid', units = 1, kernel_initializer = 'uniform'))"
   ]
  },
  {
   "cell_type": "markdown",
   "metadata": {},
   "source": [
    "## COMPILE ANN"
   ]
  },
  {
   "cell_type": "markdown",
   "metadata": {},
   "source": [
    ">*use \"adam\" stochastic gradient descent for optimizer  \n",
    "use \"binary_crossentropy\" loss function since it is logarithmic and has a binary outcome  \n",
    "use \"categorical_crossentropy\" for loss if it is more than two categories  \n",
    "use the \"accuracy\" criterion to evaluate the model*"
   ]
  },
  {
   "cell_type": "code",
   "execution_count": 11,
   "metadata": {},
   "outputs": [],
   "source": [
    "classifier.compile(optimizer = 'adam', loss = 'binary_crossentropy', metrics = ['accuracy'])"
   ]
  },
  {
   "cell_type": "markdown",
   "metadata": {},
   "source": [
    "## ANN FIT ON TRAINING SET"
   ]
  },
  {
   "cell_type": "markdown",
   "metadata": {},
   "source": [
    ">*no rule of thumb for \"batch_size\" and \"nb_epoch\", must be experimented with a bit*"
   ]
  },
  {
   "cell_type": "code",
   "execution_count": 12,
   "metadata": {},
   "outputs": [
    {
     "name": "stdout",
     "output_type": "stream",
     "text": [
      "Epoch 1/100\n",
      "8000/8000 [==============================] - ETA: 0s - loss: 0.4968 - accuracy: 0.79 - 1s 121us/sample - loss: 0.4963 - accuracy: 0.7959\n",
      "Epoch 2/100\n",
      "8000/8000 [==============================] - 1s 102us/sample - loss: 0.4321 - accuracy: 0.7960\n",
      "Epoch 3/100\n",
      "8000/8000 [==============================] - 1s 105us/sample - loss: 0.4280 - accuracy: 0.7960\n",
      "Epoch 4/100\n",
      "8000/8000 [==============================] - 1s 102us/sample - loss: 0.4233 - accuracy: 0.7971\n",
      "Epoch 5/100\n",
      "8000/8000 [==============================] - 1s 102us/sample - loss: 0.4190 - accuracy: 0.8202\n",
      "Epoch 6/100\n",
      "8000/8000 [==============================] - 1s 100us/sample - loss: 0.4162 - accuracy: 0.8250\n",
      "Epoch 7/100\n",
      "8000/8000 [==============================] - 1s 97us/sample - loss: 0.4148 - accuracy: 0.8299\n",
      "Epoch 8/100\n",
      "8000/8000 [==============================] - 1s 96us/sample - loss: 0.4128 - accuracy: 0.8301\n",
      "Epoch 9/100\n",
      "8000/8000 [==============================] - 1s 95us/sample - loss: 0.4118 - accuracy: 0.8338\n",
      "Epoch 10/100\n",
      "8000/8000 [==============================] - 1s 97us/sample - loss: 0.4101 - accuracy: 0.8316\n",
      "Epoch 11/100\n",
      "8000/8000 [==============================] - 1s 98us/sample - loss: 0.4097 - accuracy: 0.8341\n",
      "Epoch 12/100\n",
      "8000/8000 [==============================] - 1s 97us/sample - loss: 0.4089 - accuracy: 0.8350\n",
      "Epoch 13/100\n",
      "8000/8000 [==============================] - 1s 95us/sample - loss: 0.4081 - accuracy: 0.8349\n",
      "Epoch 14/100\n",
      "8000/8000 [==============================] - 1s 96us/sample - loss: 0.4077 - accuracy: 0.8345\n",
      "Epoch 15/100\n",
      "8000/8000 [==============================] - 1s 96us/sample - loss: 0.4071 - accuracy: 0.8350\n",
      "Epoch 16/100\n",
      "8000/8000 [==============================] - 1s 103us/sample - loss: 0.4068 - accuracy: 0.8359\n",
      "Epoch 17/100\n",
      "8000/8000 [==============================] - 1s 100us/sample - loss: 0.4063 - accuracy: 0.8354\n",
      "Epoch 18/100\n",
      "8000/8000 [==============================] - 1s 91us/sample - loss: 0.4058 - accuracy: 0.8351\n",
      "Epoch 19/100\n",
      "8000/8000 [==============================] - 1s 91us/sample - loss: 0.4049 - accuracy: 0.8340\n",
      "Epoch 20/100\n",
      "8000/8000 [==============================] - 1s 95us/sample - loss: 0.4051 - accuracy: 0.8344\n",
      "Epoch 21/100\n",
      "8000/8000 [==============================] - 1s 92us/sample - loss: 0.4048 - accuracy: 0.8357\n",
      "Epoch 22/100\n",
      "8000/8000 [==============================] - 1s 93us/sample - loss: 0.4048 - accuracy: 0.8347\n",
      "Epoch 23/100\n",
      "8000/8000 [==============================] - 1s 95us/sample - loss: 0.4044 - accuracy: 0.8344\n",
      "Epoch 24/100\n",
      "8000/8000 [==============================] - 1s 96us/sample - loss: 0.4042 - accuracy: 0.8351\n",
      "Epoch 25/100\n",
      "8000/8000 [==============================] - 1s 97us/sample - loss: 0.4038 - accuracy: 0.8336\n",
      "Epoch 26/100\n",
      "8000/8000 [==============================] - 1s 99us/sample - loss: 0.4039 - accuracy: 0.8355\n",
      "Epoch 27/100\n",
      "8000/8000 [==============================] - 1s 107us/sample - loss: 0.4033 - accuracy: 0.8350\n",
      "Epoch 28/100\n",
      "8000/8000 [==============================] - 1s 103us/sample - loss: 0.4031 - accuracy: 0.8361\n",
      "Epoch 29/100\n",
      "8000/8000 [==============================] - 1s 100us/sample - loss: 0.4031 - accuracy: 0.8347\n",
      "Epoch 30/100\n",
      "8000/8000 [==============================] - 1s 100us/sample - loss: 0.4032 - accuracy: 0.8351\n",
      "Epoch 31/100\n",
      "8000/8000 [==============================] - 1s 98us/sample - loss: 0.4028 - accuracy: 0.8356\n",
      "Epoch 32/100\n",
      "8000/8000 [==============================] - 1s 105us/sample - loss: 0.4031 - accuracy: 0.8344\n",
      "Epoch 33/100\n",
      "8000/8000 [==============================] - 1s 101us/sample - loss: 0.4029 - accuracy: 0.8351\n",
      "Epoch 34/100\n",
      "8000/8000 [==============================] - 1s 99us/sample - loss: 0.4023 - accuracy: 0.8345\n",
      "Epoch 35/100\n",
      "8000/8000 [==============================] - 1s 98us/sample - loss: 0.4023 - accuracy: 0.8339\n",
      "Epoch 36/100\n",
      "8000/8000 [==============================] - 1s 100us/sample - loss: 0.4024 - accuracy: 0.8365\n",
      "Epoch 37/100\n",
      "8000/8000 [==============================] - 1s 108us/sample - loss: 0.4024 - accuracy: 0.8364\n",
      "Epoch 38/100\n",
      "8000/8000 [==============================] - 1s 99us/sample - loss: 0.4024 - accuracy: 0.8360\n",
      "Epoch 39/100\n",
      "8000/8000 [==============================] - 1s 105us/sample - loss: 0.4021 - accuracy: 0.8359\n",
      "Epoch 40/100\n",
      "8000/8000 [==============================] - 1s 105us/sample - loss: 0.4021 - accuracy: 0.8354\n",
      "Epoch 41/100\n",
      "8000/8000 [==============================] - 1s 105us/sample - loss: 0.4019 - accuracy: 0.8347 - loss: 0.4013 - accuracy\n",
      "Epoch 42/100\n",
      "8000/8000 [==============================] - 1s 107us/sample - loss: 0.4015 - accuracy: 0.8353\n",
      "Epoch 43/100\n",
      "8000/8000 [==============================] - 1s 104us/sample - loss: 0.4016 - accuracy: 0.8350\n",
      "Epoch 44/100\n",
      "8000/8000 [==============================] - 1s 101us/sample - loss: 0.4018 - accuracy: 0.8342\n",
      "Epoch 45/100\n",
      "8000/8000 [==============================] - 1s 99us/sample - loss: 0.4020 - accuracy: 0.8351\n",
      "Epoch 46/100\n",
      "8000/8000 [==============================] - 1s 98us/sample - loss: 0.4017 - accuracy: 0.8363\n",
      "Epoch 47/100\n",
      "8000/8000 [==============================] - 1s 99us/sample - loss: 0.4015 - accuracy: 0.8359\n",
      "Epoch 48/100\n",
      "8000/8000 [==============================] - 1s 98us/sample - loss: 0.4019 - accuracy: 0.8346\n",
      "Epoch 49/100\n",
      "8000/8000 [==============================] - 1s 97us/sample - loss: 0.4017 - accuracy: 0.8339\n",
      "Epoch 50/100\n",
      "8000/8000 [==============================] - 1s 95us/sample - loss: 0.4014 - accuracy: 0.8346\n",
      "Epoch 51/100\n",
      "8000/8000 [==============================] - 1s 97us/sample - loss: 0.4013 - accuracy: 0.8350\n",
      "Epoch 52/100\n",
      "8000/8000 [==============================] - 1s 96us/sample - loss: 0.4016 - accuracy: 0.8356s - loss: 0\n",
      "Epoch 53/100\n",
      "8000/8000 [==============================] - 1s 102us/sample - loss: 0.4015 - accuracy: 0.8345\n",
      "Epoch 54/100\n",
      "8000/8000 [==============================] - 1s 103us/sample - loss: 0.4014 - accuracy: 0.8350\n",
      "Epoch 55/100\n",
      "8000/8000 [==============================] - 1s 98us/sample - loss: 0.4008 - accuracy: 0.8364\n",
      "Epoch 56/100\n",
      "8000/8000 [==============================] - 1s 104us/sample - loss: 0.4009 - accuracy: 0.8344\n",
      "Epoch 57/100\n",
      "8000/8000 [==============================] - 1s 104us/sample - loss: 0.4011 - accuracy: 0.8344\n",
      "Epoch 58/100\n",
      "8000/8000 [==============================] - 1s 99us/sample - loss: 0.4010 - accuracy: 0.8351\n",
      "Epoch 59/100\n",
      "8000/8000 [==============================] - 1s 101us/sample - loss: 0.4014 - accuracy: 0.8349\n",
      "Epoch 60/100\n",
      "8000/8000 [==============================] - 1s 102us/sample - loss: 0.4013 - accuracy: 0.8366\n",
      "Epoch 61/100\n",
      "8000/8000 [==============================] - 1s 100us/sample - loss: 0.4013 - accuracy: 0.8356\n",
      "Epoch 62/100\n",
      "8000/8000 [==============================] - 1s 101us/sample - loss: 0.4011 - accuracy: 0.8345\n",
      "Epoch 63/100\n",
      "8000/8000 [==============================] - 1s 99us/sample - loss: 0.4014 - accuracy: 0.8339\n",
      "Epoch 64/100\n",
      "8000/8000 [==============================] - 1s 99us/sample - loss: 0.4009 - accuracy: 0.8349\n",
      "Epoch 65/100\n",
      "8000/8000 [==============================] - 1s 96us/sample - loss: 0.4012 - accuracy: 0.8340\n",
      "Epoch 66/100\n",
      "8000/8000 [==============================] - 1s 108us/sample - loss: 0.4005 - accuracy: 0.8349\n",
      "Epoch 67/100\n",
      "8000/8000 [==============================] - 1s 109us/sample - loss: 0.4010 - accuracy: 0.8346\n",
      "Epoch 68/100\n",
      "8000/8000 [==============================] - 1s 109us/sample - loss: 0.4008 - accuracy: 0.8350\n",
      "Epoch 69/100\n",
      "8000/8000 [==============================] - 1s 103us/sample - loss: 0.4006 - accuracy: 0.8351\n",
      "Epoch 70/100\n",
      "8000/8000 [==============================] - 1s 106us/sample - loss: 0.4012 - accuracy: 0.8351\n",
      "Epoch 71/100\n",
      "8000/8000 [==============================] - 1s 107us/sample - loss: 0.4008 - accuracy: 0.8359\n",
      "Epoch 72/100\n",
      "8000/8000 [==============================] - 1s 106us/sample - loss: 0.4002 - accuracy: 0.8354\n",
      "Epoch 73/100\n",
      "8000/8000 [==============================] - 1s 103us/sample - loss: 0.4006 - accuracy: 0.8355\n",
      "Epoch 74/100\n",
      "8000/8000 [==============================] - 1s 100us/sample - loss: 0.4011 - accuracy: 0.8339\n",
      "Epoch 75/100\n",
      "8000/8000 [==============================] - 1s 101us/sample - loss: 0.4008 - accuracy: 0.8349\n",
      "Epoch 76/100\n"
     ]
    },
    {
     "name": "stdout",
     "output_type": "stream",
     "text": [
      "8000/8000 [==============================] - 1s 111us/sample - loss: 0.4008 - accuracy: 0.8344\n",
      "Epoch 77/100\n",
      "8000/8000 [==============================] - 1s 101us/sample - loss: 0.4006 - accuracy: 0.8341\n",
      "Epoch 78/100\n",
      "8000/8000 [==============================] - 1s 100us/sample - loss: 0.4006 - accuracy: 0.8334\n",
      "Epoch 79/100\n",
      "8000/8000 [==============================] - 1s 100us/sample - loss: 0.4007 - accuracy: 0.8349\n",
      "Epoch 80/100\n",
      "8000/8000 [==============================] - 1s 97us/sample - loss: 0.4006 - accuracy: 0.8331\n",
      "Epoch 81/100\n",
      "8000/8000 [==============================] - 1s 99us/sample - loss: 0.4012 - accuracy: 0.8344\n",
      "Epoch 82/100\n",
      "8000/8000 [==============================] - 1s 99us/sample - loss: 0.4005 - accuracy: 0.8336\n",
      "Epoch 83/100\n",
      "8000/8000 [==============================] - 1s 99us/sample - loss: 0.4005 - accuracy: 0.8346\n",
      "Epoch 84/100\n",
      "8000/8000 [==============================] - 1s 99us/sample - loss: 0.4002 - accuracy: 0.8344\n",
      "Epoch 85/100\n",
      "8000/8000 [==============================] - 1s 99us/sample - loss: 0.4003 - accuracy: 0.8341\n",
      "Epoch 86/100\n",
      "8000/8000 [==============================] - 1s 98us/sample - loss: 0.4001 - accuracy: 0.8342\n",
      "Epoch 87/100\n",
      "8000/8000 [==============================] - 1s 96us/sample - loss: 0.4000 - accuracy: 0.8332\n",
      "Epoch 88/100\n",
      "8000/8000 [==============================] - 1s 100us/sample - loss: 0.4009 - accuracy: 0.8355\n",
      "Epoch 89/100\n",
      "8000/8000 [==============================] - 1s 101us/sample - loss: 0.4004 - accuracy: 0.8347\n",
      "Epoch 90/100\n",
      "8000/8000 [==============================] - 1s 100us/sample - loss: 0.3999 - accuracy: 0.8360\n",
      "Epoch 91/100\n",
      "8000/8000 [==============================] - 1s 100us/sample - loss: 0.3999 - accuracy: 0.8347\n",
      "Epoch 92/100\n",
      "8000/8000 [==============================] - 1s 100us/sample - loss: 0.4002 - accuracy: 0.8342\n",
      "Epoch 93/100\n",
      "8000/8000 [==============================] - 1s 101us/sample - loss: 0.4001 - accuracy: 0.8355\n",
      "Epoch 94/100\n",
      "8000/8000 [==============================] - 1s 101us/sample - loss: 0.4002 - accuracy: 0.8353\n",
      "Epoch 95/100\n",
      "8000/8000 [==============================] - 1s 100us/sample - loss: 0.4001 - accuracy: 0.8351\n",
      "Epoch 96/100\n",
      "8000/8000 [==============================] - 1s 110us/sample - loss: 0.4002 - accuracy: 0.8338\n",
      "Epoch 97/100\n",
      "8000/8000 [==============================] - 1s 96us/sample - loss: 0.4005 - accuracy: 0.8353\n",
      "Epoch 98/100\n",
      "8000/8000 [==============================] - 1s 99us/sample - loss: 0.3999 - accuracy: 0.8363\n",
      "Epoch 99/100\n",
      "8000/8000 [==============================] - 1s 98us/sample - loss: 0.4005 - accuracy: 0.8342\n",
      "Epoch 100/100\n",
      "8000/8000 [==============================] - 1s 98us/sample - loss: 0.3997 - accuracy: 0.8349\n"
     ]
    },
    {
     "data": {
      "text/plain": [
       "<tensorflow.python.keras.callbacks.History at 0x1d8a1bde710>"
      ]
     },
     "execution_count": 12,
     "metadata": {},
     "output_type": "execute_result"
    }
   ],
   "source": [
    "classifier.fit(X_train, y_train, batch_size = 10, epochs = 100)"
   ]
  },
  {
   "cell_type": "markdown",
   "metadata": {},
   "source": [
    "# PART 3: PREDICT AND EVALUATE MODEL"
   ]
  },
  {
   "cell_type": "markdown",
   "metadata": {},
   "source": [
    "## PREDICTION ON TEST SET"
   ]
  },
  {
   "cell_type": "code",
   "execution_count": 13,
   "metadata": {},
   "outputs": [],
   "source": [
    "y_prob = classifier.predict(X_test)\n",
    "y_pred = (y_prob > 0.5)"
   ]
  },
  {
   "cell_type": "markdown",
   "metadata": {},
   "source": [
    "## CONFUSION MATRIX"
   ]
  },
  {
   "cell_type": "code",
   "execution_count": 14,
   "metadata": {},
   "outputs": [
    {
     "name": "stdout",
     "output_type": "stream",
     "text": [
      "[[1549   46]\n",
      " [ 267  138]]\n"
     ]
    }
   ],
   "source": [
    "cm = confusion_matrix(y_test, y_pred)\n",
    "print(cm)"
   ]
  },
  {
   "cell_type": "markdown",
   "metadata": {},
   "source": [
    "## ANN ROC AND AUC"
   ]
  },
  {
   "cell_type": "code",
   "execution_count": 14,
   "metadata": {},
   "outputs": [
    {
     "data": {
      "image/png": "[encoded data removed]",
      "text/plain": [
       "<Figure size 432x288 with 1 Axes>"
      ]
     },
     "metadata": {
      "needs_background": "light"
     },
     "output_type": "display_data"
    }
   ],
   "source": [
    "fpr, tpr, thresholds = roc_curve(y_test, y_prob)\n",
    "roc_auc = auc(fpr, tpr)\n",
    "plt.plot(fpr, tpr, color = 'red', lw = 1, label = 'Artifical Neural Networks (ANN) ROC (AUC = %0.3f)' % roc_auc)\n",
    "plt.plot([0, 1], [0, 1], color = 'navy', lw = 1, linestyle = '--')\n",
    "plt.xlim([0.0, 1.0])\n",
    "plt.ylim([0.0, 1.05])\n",
    "plt.xlabel('False Positive Rate')\n",
    "plt.ylabel('True Positive Rate')\n",
    "plt.title('Receiver Operating Characteristic (ROC)')\n",
    "plt.legend(loc=\"lower right\")\n",
    "plt.show()"
   ]
  },
  {
   "cell_type": "code",
   "execution_count": null,
   "metadata": {},
   "outputs": [],
   "source": []
  }
 ],
 "metadata": {
  "kernelspec": {
   "display_name": "Python 3",
   "language": "python",
   "name": "python3"
  },
  "language_info": {
   "codemirror_mode": {
    "name": "ipython",
    "version": 3
   },
   "file_extension": ".py",
   "mimetype": "text/x-python",
   "name": "python",
   "nbconvert_exporter": "python",
   "pygments_lexer": "ipython3",
   "version": "3.7.3"
  }
 },
 "nbformat": 4,
 "nbformat_minor": 2
}
